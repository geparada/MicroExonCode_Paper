version https://git-lfs.github.com/spec/v1
oid sha256:cd8b1d8cce2c20c3fb907cea774da4270a6820ad080778c3022d7e83f03f6168
size 269611
