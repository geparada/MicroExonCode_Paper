version https://git-lfs.github.com/spec/v1
oid sha256:46b1e8e01e640b0cb66a6f0ac4edb3fab10d6ce0b2fa6e884eeed050a9fd73da
size 18873643
