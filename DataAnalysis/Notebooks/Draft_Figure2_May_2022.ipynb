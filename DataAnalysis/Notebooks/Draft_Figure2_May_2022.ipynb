version https://git-lfs.github.com/spec/v1
oid sha256:fa5f616d34d0d961a47885499b86a68f4449df331634e16ab7964f765a4e2209
size 11142322
