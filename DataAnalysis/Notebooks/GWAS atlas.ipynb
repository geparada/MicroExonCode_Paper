version https://git-lfs.github.com/spec/v1
oid sha256:de5af6bf1519820006089af9a9f86e495030a87c79f0ee5480212d9bb301a5c6
size 67345
