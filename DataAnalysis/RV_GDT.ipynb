version https://git-lfs.github.com/spec/v1
oid sha256:e0b1cc8fe33c99794d3c38d79c5fec2d23ff241b57d15369896329d0e7a5fab5
size 10009043
